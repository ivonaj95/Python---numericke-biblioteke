{
 "cells": [
  {
   "cell_type": "markdown",
   "metadata": {},
   "source": [
    "# Upustvo za instalaciju\n",
    "\n",
    "Postoje dva nacina za instalaciju. \n",
    "\n",
    "## Prvi nacin \n",
    "\n",
    "Prvi nacin je da koristite Anaconda platformu.\n",
    "\n",
    "Na ovom linku mozete da nadjete instalacioni fajl za vas operativni sistem https://docs.conda.io/en/latest/miniconda.html\n",
    "Nakon instalacije, potrebno je otvoriti Anaconda3 terminal i pokrenuti naredbu \"conda install -c conda-forge jupyterlab\" kako bi se instalirao alat Jupyter Lab koji ćemo koristiti.\n",
    "\n",
    "Svaki put kad želimo da pokrenemo Jupyter Lab alat, potrebno je da pokrenemo naredbu \"jupyter lab --expose-app-in-browser\". U podrazumevanom veb pregledaču će biti pokrenut alat automatski. \n",
    "\n",
    "* PREDNOST: Dobijate i neke druge biblioteke za python instalirane u sklopu anaconde. *\n",
    "\n",
    "## Drugi nacin \n",
    "\n",
    "Drugi nacin je da ne koristite anaconda platformu, vec da samo instalirate jyputer i ostale biblioteke po potrebi. \n",
    "Upustvo za instalaciju mozete pronaci na sledecem linku\n",
    "\n",
    "> https://jupyter.org/install\n",
    "\n",
    "\n",
    "Nakon uspesne instalacije, pozicionirajte se u direktorijum gde zelite da radite. Nakon toga jupiter svesku mozete pokrenuti komandom\n",
    "\n",
    "> jupyter notebook\n",
    "\n",
    "\n",
    "### Moguci problemi\n",
    "\n",
    "Ako imate neka podesavanja za proxy, postoji mogucnost da se jupyter ne otvori u browseru. Dobicete gresku slicnu narednoj.\n",
    "\n",
    "> [I 13:36:22.247 NotebookApp] Use Control-C to stop this server and shut down all kernels (twice to skip confirmation).\n",
    "> [C 13:36:22.292 NotebookApp] \n",
    "  >  \n",
    "    To access the notebook, open this file in a browser:\n",
    "        file:///run/user/11743/snap.jupyter/jupyter/nbserver-165563-open.html\n",
    "    Or copy and paste one of these URLs:\n",
    "        http://localhost:8889/?token=010ed9bbff40d8e353044dde8c5b39fb21186803c7068640\n",
    "user-open error: request declined by the user (code 2)\n",
    "\n",
    "\n",
    "U tom slucaju samo rucno prekopirajte drugi link u svoj browser.\n",
    "\n",
    "## Treci nacin - Rad bez instalacije na lokalni racunar\n",
    "\n",
    "Ukoliko ne zelite da instalirate jupyter, mozete ga koristiti i online \n",
    "> https://jupyter.org/try"
   ]
  },
  {
   "cell_type": "markdown",
   "metadata": {},
   "source": [
    "# Zasto koristiti jupyter notebook?\n",
    "\n",
    "Jupyter sveska je interaktivna radna sveska koja omogućuje pisanje i izvršavanje koda, kao i unos teksta i slike. Osnovni elementi Jupyter sveske su ćelije, koje mogu imati tip ***code*** , ***markdown***, ***raw***\n",
    "\n",
    "**Code** ćelije su namijenjene pisanju i izvršavanju koda. Možete napisati bilo koji kod u podržanom programskom jeziku i pokrenuti ga pritiskom na Shift + Enter ili klikom na dugme \"Run\" u meniju. Rezultati će biti prikazani ispod ćelije.\n",
    "\n",
    "**Markdown** ćelije su namijenjene unosu teksta, ali ne koda. Možete koristiti Markdown sintaksu da formatirate tekst, uključujući naslove, listove, citate, slike i linkove. Kada pokrenete \"markdown\" ćeliju (Shift + Enter), tekst će biti prikazan formatiran u zavisnosti od korištenje sintakse.\n",
    "\n",
    "**Raw** ćelije su ćelije koje se ne izvršavaju i koje se prikazuju kao običan tekst. One su namijenjene za tekst koji bi trebao biti prikazan u dokumentu, ali koji ne bi trebao biti promijenjen ili izvršen.\n",
    "  "
   ]
  },
  {
   "cell_type": "markdown",
   "metadata": {
    "jp-MarkdownHeadingCollapsed": true,
    "tags": []
   },
   "source": [
    "## Najvaznije precice ##\n",
    "\n",
    "> A - Dodaj novu celiju iznad (above)\n",
    "\n",
    "> B - Dodaj novu celiju ispod (bellow)\n",
    "\n",
    "> DD - Obrisi celiju\n",
    "\n",
    "> Esc - Selektuj celiju\n",
    "\n",
    "> Ctrl + Enter - Pokreni celiju"
   ]
  }
 ],
 "metadata": {
  "kernelspec": {
   "display_name": "Python 3 (ipykernel)",
   "language": "python",
   "name": "python3"
  },
  "language_info": {
   "codemirror_mode": {
    "name": "ipython",
    "version": 3
   },
   "file_extension": ".py",
   "mimetype": "text/x-python",
   "name": "python",
   "nbconvert_exporter": "python",
   "pygments_lexer": "ipython3",
   "version": "3.10.10"
  }
 },
 "nbformat": 4,
 "nbformat_minor": 4
}
