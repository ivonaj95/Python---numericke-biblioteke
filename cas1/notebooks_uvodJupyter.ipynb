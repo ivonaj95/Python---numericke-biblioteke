{
 "cells": [
  {
   "cell_type": "markdown",
   "metadata": {},
   "source": [
    "# Markdown # \n",
    "\n",
    "**Markdown** je jednostavan markup jezik koji se koristi za formatiranje teksta u Jupyter Notebooku i drugim alatima za uređivanje teksta. Markdown vam omogućuje da brzo i jednostavno dodate formatiranje, poput naslova, popisa, slika i linkova, bez korištenja složenog HTML koda.\n",
    "\n",
    "Ovde su navedena neka osnovna pravila za oznacavanje teksta u Markdownu:\n"
   ]
  },
  {
   "cell_type": "markdown",
   "metadata": {},
   "source": [
    "# Naslov #"
   ]
  },
  {
   "cell_type": "raw",
   "metadata": {},
   "source": [
    "# Naslov #"
   ]
  },
  {
   "cell_type": "markdown",
   "metadata": {},
   "source": [
    "## Podnaslov ##\n",
    "\n"
   ]
  },
  {
   "cell_type": "raw",
   "metadata": {},
   "source": [
    "## Podnaslov ##"
   ]
  },
  {
   "cell_type": "markdown",
   "metadata": {},
   "source": [
    "Ovo je *iskoseni* tekst"
   ]
  },
  {
   "cell_type": "raw",
   "metadata": {},
   "source": [
    "Ovo je *iskoseni* tekst"
   ]
  },
  {
   "cell_type": "markdown",
   "metadata": {},
   "source": [
    "Ovo je **podebljani** tekst"
   ]
  },
  {
   "cell_type": "raw",
   "metadata": {},
   "source": [
    "Ovo je **podebljani** tekst"
   ]
  },
  {
   "cell_type": "markdown",
   "metadata": {},
   "source": [
    "Ovo je lista\n",
    "+ prvi clan\n",
    "+ drugi clan\n",
    "+ treci clan\n",
    "+ cetvrti clan"
   ]
  },
  {
   "cell_type": "raw",
   "metadata": {},
   "source": [
    "Ovo je lista\n",
    "+ prvi clan\n",
    "+ drugi clan\n",
    "+ treci clan\n",
    "+ cetvrti clan"
   ]
  },
  {
   "cell_type": "markdown",
   "metadata": {},
   "source": [
    "Ovo je numerisana lista\n",
    "1. prvi clan\n",
    "2. drugi clan\n",
    "1. treci clan\n",
    "4. cetvrti clan"
   ]
  },
  {
   "cell_type": "raw",
   "metadata": {},
   "source": [
    "Ovo je numerisana lista\n",
    "1. prvi clan\n",
    "2. drugi clan\n",
    "3. treci clan\n",
    "4. cetvrti clan"
   ]
  },
  {
   "cell_type": "markdown",
   "metadata": {},
   "source": [
    "Ovo je citat\n",
    "> citat"
   ]
  },
  {
   "cell_type": "raw",
   "metadata": {},
   "source": [
    "Ovo je citat\n",
    "> citat"
   ]
  },
  {
   "cell_type": "markdown",
   "metadata": {},
   "source": [
    "Ovo je kod\n",
    "~~~ python\n",
    "    print(\"Hello world\") \n",
    "    a = 5\n",
    "    b = 'Hello'\n",
    "~~~"
   ]
  },
  {
   "cell_type": "raw",
   "metadata": {},
   "source": [
    "Ovo je kod\n",
    "~~~ python\n",
    "    print(\"Hello world\") \n",
    "    a = 5\n",
    "    b = 'Hello'\n",
    "~~~"
   ]
  },
  {
   "cell_type": "markdown",
   "metadata": {},
   "source": [
    "Markdown ima jos mnogo mogucnosti, ali za sada je ovo dovoljno. Vise informacija se moze pronaci u zvanicnoj dokumentaciji\n",
    "https://www.markdownguide.org/getting-started/"
   ]
  }
 ],
 "metadata": {
  "kernelspec": {
   "display_name": "Python 3 (ipykernel)",
   "language": "python",
   "name": "python3"
  },
  "language_info": {
   "codemirror_mode": {
    "name": "ipython",
    "version": 3
   },
   "file_extension": ".py",
   "mimetype": "text/x-python",
   "name": "python",
   "nbconvert_exporter": "python",
   "pygments_lexer": "ipython3",
   "version": "3.10.10"
  }
 },
 "nbformat": 4,
 "nbformat_minor": 4
}
