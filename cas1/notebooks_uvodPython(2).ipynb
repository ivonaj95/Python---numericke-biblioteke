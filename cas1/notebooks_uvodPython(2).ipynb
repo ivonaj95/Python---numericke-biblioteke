{
 "cells": [
  {
   "cell_type": "markdown",
   "metadata": {},
   "source": [
    "# Uvod u programski jezik Python #"
   ]
  },
  {
   "cell_type": "markdown",
   "metadata": {},
   "source": [
    "## Ispis podataka ##"
   ]
  },
  {
   "cell_type": "code",
   "execution_count": 1,
   "metadata": {},
   "outputs": [
    {
     "name": "stdout",
     "output_type": "stream",
     "text": [
      "Hello world\n"
     ]
    }
   ],
   "source": [
    "# String sa dvostrukim navodnicima\n",
    "print(\"Hello world\")"
   ]
  },
  {
   "cell_type": "code",
   "execution_count": 2,
   "metadata": {},
   "outputs": [
    {
     "name": "stdout",
     "output_type": "stream",
     "text": [
      "50\n"
     ]
    }
   ],
   "source": [
    "# Int\n",
    "print(\"50\")"
   ]
  },
  {
   "cell_type": "code",
   "execution_count": 3,
   "metadata": {},
   "outputs": [
    {
     "name": "stdout",
     "output_type": "stream",
     "text": [
      "Hello world\n"
     ]
    }
   ],
   "source": [
    "# String sa jednostrukim navodnicima\n",
    "print('Hello world')"
   ]
  },
  {
   "cell_type": "markdown",
   "metadata": {},
   "source": [
    "U programskom jeziku python mozemo da koristimo i jednostruke i dvostruke navodnike za Stringove. Jedina razlika je sto ako koristimo dvostruke navodnike, onda unutar tog stringa mozemo koristiti jednostruke navodnike i obrnuto"
   ]
  },
  {
   "cell_type": "code",
   "execution_count": 4,
   "metadata": {},
   "outputs": [
    {
     "name": "stdout",
     "output_type": "stream",
     "text": [
      "Hello 'world' \n",
      "Hello \"world\"\n"
     ]
    }
   ],
   "source": [
    "print(\"Hello 'world' \")\n",
    "print('Hello \"world\"')"
   ]
  },
  {
   "cell_type": "code",
   "execution_count": 13,
   "metadata": {},
   "outputs": [
    {
     "name": "stdout",
     "output_type": "stream",
     "text": [
      "Vrednost promenjive n je: 5\n"
     ]
    }
   ],
   "source": [
    "# Formatirani ispis \n",
    "n = 5\n",
    "print(\"Vrednost promenjive n je: {}\".format(n))"
   ]
  },
  {
   "cell_type": "code",
   "execution_count": 15,
   "metadata": {},
   "outputs": [
    {
     "name": "stdout",
     "output_type": "stream",
     "text": [
      "Ana ima 10 knjiga. \n"
     ]
    }
   ],
   "source": [
    "ime = \"Ana\"\n",
    "brojKnjiga = 10\n",
    "print(\"{} ima {} knjiga. \".format(ime, brojKnjiga))"
   ]
  },
  {
   "cell_type": "code",
   "execution_count": 1,
   "metadata": {},
   "outputs": [
    {
     "name": "stdout",
     "output_type": "stream",
     "text": [
      "ANA ima 12 knjiga\n"
     ]
    }
   ],
   "source": [
    "# jos jedan nacin za formatirani ispis, slicno kao u C-u printf\n",
    "ime = \"ANA\"\n",
    "brojKnjiga = 12\n",
    "print(f\"{ime} ima {brojKnjiga} knjiga\")"
   ]
  },
  {
   "cell_type": "markdown",
   "metadata": {},
   "source": [
    "## Obrada izuzetaka ##"
   ]
  },
  {
   "cell_type": "code",
   "execution_count": 26,
   "metadata": {},
   "outputs": [
    {
     "name": "stdout",
     "output_type": "stream",
     "text": [
      "Neispravne vrednosti\n"
     ]
    }
   ],
   "source": [
    "a = 23\n",
    "b = 0\n",
    "try:\n",
    "    c = a/b\n",
    "    print(\"a : b = {}\".format(c))\n",
    "except:\n",
    "    print(\"Neispravne vrednosti\")"
   ]
  },
  {
   "cell_type": "markdown",
   "metadata": {},
   "source": [
    "## Rad sa fajlovima ##"
   ]
  },
  {
   "cell_type": "code",
   "execution_count": 40,
   "metadata": {},
   "outputs": [
    {
     "name": "stdout",
     "output_type": "stream",
     "text": [
      "Ova datoteka se zove ulaz.txt\n",
      "Ovo je njen sadrzaj.\n"
     ]
    }
   ],
   "source": [
    "# citanje datoteke\n",
    "\n",
    "# Character Meaning\n",
    "# --------- ---------------------------------------------------------------\n",
    "# 'r'       open for reading (default)\n",
    "# 'w'       open for writing, truncating the file first\n",
    "# 'x'       create a new file and open it for writing\n",
    "# 'a'       open for writing, appending to the end of the file if it exists\n",
    "\n",
    "f = open(\"ulaz.txt\", \"r\")\n",
    "print(f.read())"
   ]
  },
  {
   "cell_type": "markdown",
   "metadata": {},
   "source": [
    "NAPOMENA: Ukoliko zaboravite argumente neke metode, ili zelite da vidite sta tacno ta metoda radi potrebno je samo da izvrsite sledecu komandu\n",
    "> imeFunkcijeKojaVasZanima?"
   ]
  },
  {
   "cell_type": "code",
   "execution_count": 218,
   "metadata": {},
   "outputs": [],
   "source": [
    "# Zelimo da saznamo vise o metodi open\n",
    "#open?\n",
    "#help(open)"
   ]
  },
  {
   "cell_type": "code",
   "execution_count": 47,
   "metadata": {},
   "outputs": [
    {
     "name": "stdout",
     "output_type": "stream",
     "text": [
      "Greska prilikom otvaranja fajla\n"
     ]
    }
   ],
   "source": [
    "# Ako zelimo da citamo iz datoteke koju nismo prethodno napravili dobicemo izuzetak(Exception, Crash). \n",
    "# Zbog toga je potrebno da citamo datoteke unutra try except bloka\n",
    "try:\n",
    "    f = open(\"nepostojeciUlaz.txt\", \"r\")\n",
    "    print(f.read())\n",
    "except:\n",
    "    print(\"Greska prilikom otvaranja fajla\")"
   ]
  },
  {
   "cell_type": "code",
   "execution_count": 69,
   "metadata": {},
   "outputs": [],
   "source": [
    "# Upis u datoteku\n",
    "try:\n",
    "    g = open(\"izlaz.txt\", \"w\")\n",
    "    g.write(\"Ovo je datoteka izlaz.txt \\n\")\n",
    "except:\n",
    "    print(\"Greska\")"
   ]
  },
  {
   "cell_type": "code",
   "execution_count": 72,
   "metadata": {},
   "outputs": [
    {
     "name": "stdout",
     "output_type": "stream",
     "text": [
      "Ovo je datoteka izlaz.txt \n",
      "\n"
     ]
    }
   ],
   "source": [
    "# Ako hocemo da proverimo sta smo upisali u datoteku,\n",
    "# moramo ponovo da napravimo file deskriptor, ali sada da prosledimo parametar \"r\"\n",
    "try:\n",
    "    g = open(\"izlaz.txt\", \"r\")\n",
    "    print(g.read())\n",
    "except:\n",
    "    print(\"Greska\")"
   ]
  },
  {
   "cell_type": "markdown",
   "metadata": {},
   "source": [
    "## If - Else, For, While ##"
   ]
  },
  {
   "cell_type": "code",
   "execution_count": 81,
   "metadata": {},
   "outputs": [
    {
     "name": "stdout",
     "output_type": "stream",
     "text": [
      "Broj 10 je paran\n"
     ]
    }
   ],
   "source": [
    "# Da li je broj paran?\n",
    "a = 10\n",
    "if(a % 2 == 0):\n",
    "    print(\"Broj {} je paran\".format(a))\n",
    "else:\n",
    "    print(\"Broj {} je neparan\".format(a))"
   ]
  },
  {
   "cell_type": "code",
   "execution_count": 84,
   "metadata": {},
   "outputs": [
    {
     "name": "stdout",
     "output_type": "stream",
     "text": [
      "0\n",
      "1\n",
      "2\n",
      "3\n",
      "4\n"
     ]
    }
   ],
   "source": [
    "# ispisati sve brojeve iz intervala [0, 5) - for petlja\n",
    "for i in range(0,5):\n",
    "    print(i)"
   ]
  },
  {
   "cell_type": "code",
   "execution_count": 86,
   "metadata": {},
   "outputs": [
    {
     "name": "stdout",
     "output_type": "stream",
     "text": [
      "0\n",
      "1\n",
      "2\n",
      "3\n",
      "4\n"
     ]
    }
   ],
   "source": [
    "# ispisati sve brojeve intervala [0, 5) - while petlja\n",
    "i = 0\n",
    "while(i < 5):\n",
    "    print(i)\n",
    "    i+=1\n"
   ]
  },
  {
   "cell_type": "markdown",
   "metadata": {},
   "source": [
    "## Liste ##"
   ]
  },
  {
   "cell_type": "code",
   "execution_count": 87,
   "metadata": {},
   "outputs": [
    {
     "name": "stdout",
     "output_type": "stream",
     "text": [
      "[1, 2, 3, 4]\n"
     ]
    }
   ],
   "source": [
    "# incijalizacija liste\n",
    "lista = [1, 2, 3, 4]\n",
    "print(lista)"
   ]
  },
  {
   "cell_type": "code",
   "execution_count": 88,
   "metadata": {},
   "outputs": [
    {
     "name": "stdout",
     "output_type": "stream",
     "text": [
      "Duzina liste je: 4\n"
     ]
    }
   ],
   "source": [
    "# dusina liste\n",
    "lista = [1, 2, 3, 4]\n",
    "n = len(lista)\n",
    "print('Duzina liste je: {}'.format(n))"
   ]
  },
  {
   "cell_type": "code",
   "execution_count": 89,
   "metadata": {},
   "outputs": [
    {
     "name": "stdout",
     "output_type": "stream",
     "text": [
      "a\n",
      "2\n",
      "b\n",
      "4\n"
     ]
    }
   ],
   "source": [
    "# prolazak kroz listu po indeksima\n",
    "lista = ['a', 2, \"b\", 4]\n",
    "n = len(lista)\n",
    "\n",
    "for i in range(0, n):\n",
    "    print(lista[i])"
   ]
  },
  {
   "cell_type": "code",
   "execution_count": 91,
   "metadata": {},
   "outputs": [
    {
     "name": "stdout",
     "output_type": "stream",
     "text": [
      "a\n",
      "2\n",
      "b\n",
      "4\n"
     ]
    }
   ],
   "source": [
    "# prolazak kroz listu - drugi nacin\n",
    "lista = ['a', 2, \"b\", 4]\n",
    "n = len(lista)\n",
    "\n",
    "for element in lista: # foreach\n",
    "    print(element)"
   ]
  },
  {
   "cell_type": "code",
   "execution_count": 93,
   "metadata": {},
   "outputs": [
    {
     "name": "stdout",
     "output_type": "stream",
     "text": [
      "[1, 25, 4, 16, 9]\n"
     ]
    }
   ],
   "source": [
    "# transformacije nad listom\n",
    "lista = [1, 5, 2, 4, 3]\n",
    "kvadriranaLista = [x**2 for x in lista] # ** - stepen\n",
    "print(kvadriranaLista)"
   ]
  },
  {
   "cell_type": "code",
   "execution_count": 94,
   "metadata": {},
   "outputs": [
    {
     "name": "stdout",
     "output_type": "stream",
     "text": [
      "[1, 3, 5]\n"
     ]
    }
   ],
   "source": [
    "# izdvoji samo neparne brojeve iz liste\n",
    "lista = [1, 2, 3, 4, 5]\n",
    "neparni = [x for x in lista if x % 2 == 1]\n",
    "print(neparni)"
   ]
  },
  {
   "cell_type": "code",
   "execution_count": 96,
   "metadata": {},
   "outputs": [
    {
     "name": "stdout",
     "output_type": "stream",
     "text": [
      "<zip object at 0x28538b8>\n",
      "(1, 'a')\n",
      "(2, 'b')\n",
      "(3, 'c')\n",
      "(4, 'd')\n"
     ]
    }
   ],
   "source": [
    "# dekartov proizvod dve liste\n",
    "lista1 = [1, 2, 3, 4]\n",
    "lista2 = ['a', 'b', 'c', 'd']\n",
    "dekartovProizvod = zip(lista1, lista2)\n",
    "print(zipovana) # ovo ce nam ispisati referencu na listu, ali ne i elemente liste\n",
    "# da bismo ispisali sve elemente liste moramo koristiti petlju\n",
    "for l in dekartovProizvod:\n",
    "    print(l)"
   ]
  },
  {
   "cell_type": "code",
   "execution_count": 104,
   "metadata": {},
   "outputs": [
    {
     "name": "stdout",
     "output_type": "stream",
     "text": [
      "[8, 26, 0, 2, 7, 5, 1]\n"
     ]
    }
   ],
   "source": [
    "# obrtanje liste\n",
    "lista = [1, 5, 7, 2, 0, 26, 8]\n",
    "lista.reverse()\n",
    "print(lista)"
   ]
  },
  {
   "cell_type": "code",
   "execution_count": 107,
   "metadata": {},
   "outputs": [
    {
     "name": "stdout",
     "output_type": "stream",
     "text": [
      "[0, 1, 2, 5, 7, 8, 26]\n"
     ]
    }
   ],
   "source": [
    "# sortiranje liste rastuce\n",
    "lista = [1, 5, 7, 2, 0, 26, 8]\n",
    "lista.sort()\n",
    "print(lista)"
   ]
  },
  {
   "cell_type": "code",
   "execution_count": 109,
   "metadata": {},
   "outputs": [
    {
     "name": "stdout",
     "output_type": "stream",
     "text": [
      "[26, 8, 7, 5, 2, 1, 0]\n"
     ]
    }
   ],
   "source": [
    "# sortiranje liste opadajuce\n",
    "lista = [1, 5, 7, 2, 0, 26, 8]\n",
    "lista.sort(reverse = True)\n",
    "print(lista)"
   ]
  },
  {
   "cell_type": "code",
   "execution_count": 8,
   "metadata": {},
   "outputs": [
    {
     "name": "stdout",
     "output_type": "stream",
     "text": [
      "[7, 2, 0]\n",
      "[7, 0, 8]\n",
      "[7, 0, 8]\n",
      "8\n",
      "[2, 0, 26]\n"
     ]
    }
   ],
   "source": [
    "lista = [1, 5, 7, 2, 0, 26, 8]\n",
    "# ispisi elemente sa indeksima od 2 do 5 (bez elementa sa indeksom 5)\n",
    "print(lista[2:5])\n",
    "# ispisi elemente sa parnim indeksima pocevsi od elementa sa indeksom 2\n",
    "print(lista[2:7:2]) # prvi nacin\n",
    "print(lista[2::2]) # drugi nacin\n",
    "# element sa indeksom -1 je zapravo poslednji element liste\n",
    "print(lista[-1])\n",
    "# sta ispisuje sledeci kod?\n",
    "print(lista[-4: -1])"
   ]
  },
  {
   "cell_type": "code",
   "execution_count": 142,
   "metadata": {},
   "outputs": [
    {
     "name": "stdout",
     "output_type": "stream",
     "text": [
      "[2, 7, 3, 9, 4, 0]\n",
      "[2, 7, 3, 9, 4, 0, -1]\n",
      "[6, 2, 7, 3, 9, 4, 0, -1]\n",
      "[6, 2, 7, 10, 3, 9, 4, 0, -1]\n",
      "[6, 2, 7, 10, 3, 9, 4, 0]\n",
      "[6, 2, 7, 3, 9, 4, 0]\n",
      "[6, 2, 7, 9, 4, 0]\n"
     ]
    }
   ],
   "source": [
    "# Vec smo videli da se liste mogu sortirati i obrtati\n",
    "# Liste su promenjivi tip podataka\n",
    "# U nastavku cemo videti kako mozemo dodati ili ukloniti element iz liste\n",
    "\n",
    "lista = [2, 7, 3, 9, 4, 0]\n",
    "print(lista)\n",
    "# dodavanje na kraj\n",
    "lista.append(-1)\n",
    "print(lista)\n",
    "# dodavanje na pocetak\n",
    "lista.insert(0, 6)\n",
    "print(lista)\n",
    "# dodavanje elementa na poziciju 3\n",
    "lista.insert(3, 10)\n",
    "print(lista)\n",
    "# uklanjanje elementa sa kraja liste\n",
    "lista.pop()\n",
    "print(lista)\n",
    "#uklanjanje elementa na poziciji 3\n",
    "lista.pop(3)\n",
    "print(lista)\n",
    "#uklanjanje broja 3 iz liste\n",
    "lista.remove(3)\n",
    "print(lista)\n"
   ]
  },
  {
   "cell_type": "code",
   "execution_count": 147,
   "metadata": {},
   "outputs": [
    {
     "name": "stdout",
     "output_type": "stream",
     "text": [
      "[2, 7, 3, 8.9, 1, 2, 18, 'a', 'b', 'c', 'd']\n",
      "['pocetak', 2, 7, 3, 8.9, 1, 2, 18]\n",
      "[7, 3, 8.9, 1, 2, 18]\n"
     ]
    }
   ],
   "source": [
    "lista1 = [2,7,3,8.9,1,2,18]\n",
    "lista2 = [\"a\", \"b\", \"c\", \"d\"]\n",
    "# nadovezivanje dve liste\n",
    "print(lista1 + lista2)\n",
    "\n",
    "#dodavanje elementa na pocetak pomocu nadovezivanja\n",
    "print([\"pocetak\"]+lista1)\n",
    "\n",
    "#Uklanjanje prvog elementa \n",
    "print(lista1[1:])"
   ]
  },
  {
   "cell_type": "markdown",
   "metadata": {},
   "source": [
    "## Niske ##"
   ]
  },
  {
   "cell_type": "code",
   "execution_count": 156,
   "metadata": {},
   "outputs": [
    {
     "name": "stdout",
     "output_type": "stream",
     "text": [
      "Zdravo\n",
      "Zdravo svete\n",
      "[' ', 's', 'v', 'e', 't', 'e']\n",
      "Zdravo Svete\n"
     ]
    }
   ],
   "source": [
    "niska = \"Zdravo\"\n",
    "print(niska)\n",
    "# niske ne mozemo da menjamo(ne postoje insert, remove metode), mozemo samo da radimo nadovezivanje\n",
    "niska2 = \" svete\"\n",
    "print(niska + niska2)\n",
    "# ako bas zelimo da izmenimo karakter , mozemo da konvertujemo nisku u listu karaktera na sledeci nacin\n",
    "l = list(niska2)\n",
    "print(l)\n",
    "l[1] = 'S'\n",
    "# join spaja listu karaktera u nisku\n",
    "izmenjenaNiska2 = ''.join(l) # ovde prosledjujemo prazan karakter, jer  ako kazemo \"a\".join(niska2) dobicemo asavaeatae\n",
    "print(niska + izmenjenaNiska2)"
   ]
  },
  {
   "cell_type": "markdown",
   "metadata": {},
   "source": [
    "## Torke ##"
   ]
  },
  {
   "cell_type": "code",
   "execution_count": 164,
   "metadata": {},
   "outputs": [
    {
     "name": "stdout",
     "output_type": "stream",
     "text": [
      "(1, 5, 7, 9)\n",
      "9\n"
     ]
    }
   ],
   "source": [
    "# Za razliku od listi koje su mogle da se menjaju, torke su nepromenjivi objekti\n",
    "# Torke koristimo za elemente koje ne zelimo naknadno menjati\n",
    "torka = (1, 5, 7, 9)\n",
    "print(torka)\n",
    "# nadivezivanje, pristup elementima je dostupno kao kod listi\n",
    "print(torka[3])"
   ]
  },
  {
   "cell_type": "markdown",
   "metadata": {},
   "source": [
    "## Matrice ##"
   ]
  },
  {
   "cell_type": "code",
   "execution_count": 131,
   "metadata": {},
   "outputs": [
    {
     "name": "stdout",
     "output_type": "stream",
     "text": [
      "[[1, 2, 3], [4, 5, 6], [7, 8, 9]]\n",
      "8\n"
     ]
    }
   ],
   "source": [
    "matrica = [[1, 2, 3],\n",
    "           [4, 5, 6],\n",
    "           [7, 8, 9]]\n",
    "\n",
    "print(matrica)\n",
    "print(matrica[2][1])"
   ]
  },
  {
   "cell_type": "markdown",
   "metadata": {},
   "source": [
    "## Pseudoslucajni brojevi ##"
   ]
  },
  {
   "cell_type": "code",
   "execution_count": 174,
   "metadata": {},
   "outputs": [
    {
     "name": "stdout",
     "output_type": "stream",
     "text": [
      "0.9199035605233534\n",
      "4\n",
      "6\n",
      "[16, 10, 5.9, 7]\n"
     ]
    }
   ],
   "source": [
    "import random\n",
    "r = random.random() # vraca slucajan broj iz intervala [0, 1)\n",
    "rInt = random.randint(1,10)\n",
    "print(r)\n",
    "print(rInt)\n",
    "lista = [6,7,2,5.9,2,16,10]\n",
    "print(random.choice(lista)) # random element iz liste\n",
    "print(random.sample(lista, 4)) # random podlista od 4 elementa"
   ]
  },
  {
   "cell_type": "markdown",
   "metadata": {},
   "source": [
    "## Skupovi i Mape ##"
   ]
  },
  {
   "cell_type": "code",
   "execution_count": 175,
   "metadata": {},
   "outputs": [
    {
     "name": "stdout",
     "output_type": "stream",
     "text": [
      "{1, 2, 3, 6, 8}\n"
     ]
    }
   ],
   "source": [
    "# Skup je kolekcija elemenata koji se ne mogu menjati i ne mogu se duplirati\n",
    "print(set([1,2,6, 2, 3, 8, 1]))"
   ]
  },
  {
   "cell_type": "code",
   "execution_count": 185,
   "metadata": {},
   "outputs": [
    {
     "name": "stdout",
     "output_type": "stream",
     "text": [
      "{'Analiza': 120, 'Algebra': 60, 'Programiranje': 110, 'Logika': 40}\n",
      "Algebru slusa 60 studenata.\n",
      "{'Analiza': 120, 'Algebra': 60, 'Programiranje': 110, 'Logika': 40, 'Engleski': 80}\n",
      "{'Analiza': 120, 'Algebra': 60, 'Programiranje': 110, 'Engleski': 80}\n",
      "Analiza ima 120 studenata\n",
      "Algebra ima 60 studenata\n",
      "Programiranje ima 110 studenata\n",
      "Engleski ima 80 studenata\n"
     ]
    }
   ],
   "source": [
    "# Mapa ili recnik je kolekcija elemenata koja sadrzi parove klju : vrednost\n",
    "# Kljucevi su jedinstveni identifikatori i koristimo ih za pristupanje vrednostima\n",
    "mapa = {\n",
    "    'Analiza': 120,\n",
    "    'Algebra': 60,\n",
    "    'Programiranje': 110,\n",
    "    'Logika' : 40 \n",
    "}\n",
    "\n",
    "print(mapa)\n",
    "print(\"Algebru slusa {} studenata.\".format(mapa['Algebra']))\n",
    "mapa['Engleski'] = 80 # dodavanje elementa u mapu\n",
    "print(mapa)\n",
    "del mapa['Logika'] # brisanje elementa iz mape\n",
    "print(mapa)\n",
    "\n",
    "# prolazak kroz mapu\n",
    "for k in mapa.keys():\n",
    "    print(\"{} ima {} studenata\".format(k, mapa[k]))"
   ]
  },
  {
   "cell_type": "markdown",
   "metadata": {},
   "source": [
    "## MATH biblioteka ##"
   ]
  },
  {
   "cell_type": "code",
   "execution_count": 199,
   "metadata": {},
   "outputs": [
    {
     "name": "stdout",
     "output_type": "stream",
     "text": [
      "3.0\n",
      "4\n",
      "3\n",
      "8.0\n",
      "3.141592653589793\n",
      "0.49999999999999994\n",
      "1.0\n"
     ]
    }
   ],
   "source": [
    "import math\n",
    "\n",
    "print(math.sqrt(9)) # kvadratni koren\n",
    "print(math.ceil(3.8)) # zaokruzivanje na veci broj\n",
    "print(math.floor(3.8)) # zaokruzivanje na manji broj\n",
    "print(math.pow(2,3)) # stepenovanje 2^3\n",
    "print(math.pi) # broj pi\n",
    "print(math.sin(math.pi/6))\n",
    "print(math.cos(0))\n",
    "# ..............................\n",
    "# naredna komanda ce da izlista sve metode dostupne u biblioteci math\n",
    "# help(math)"
   ]
  },
  {
   "cell_type": "markdown",
   "metadata": {},
   "source": [
    "## Funkcije ##"
   ]
  },
  {
   "cell_type": "code",
   "execution_count": 201,
   "metadata": {},
   "outputs": [
    {
     "name": "stdout",
     "output_type": "stream",
     "text": [
      "5\n"
     ]
    }
   ],
   "source": [
    "def zbirDvaBroja(a, b):\n",
    "    return a + b\n",
    "print(zbirDvaBroja(2,3))"
   ]
  },
  {
   "cell_type": "code",
   "execution_count": 204,
   "metadata": {},
   "outputs": [
    {
     "name": "stdout",
     "output_type": "stream",
     "text": [
      "11\n",
      "9\n"
     ]
    }
   ],
   "source": [
    "def zbir(a, b, c = 0):\n",
    "    return a + b + c\n",
    "print(zbir(2,3,6))\n",
    "print(zbir(2,7))"
   ]
  },
  {
   "cell_type": "code",
   "execution_count": 209,
   "metadata": {},
   "outputs": [
    {
     "data": {
      "text/plain": [
       "(-8, 10)"
      ]
     },
     "execution_count": 208,
     "metadata": {},
     "output_type": "execute_result"
    }
   ],
   "source": [
    "# Funkcija takodje moze imati i torku kao povratni tim\n",
    "def minMax(lista):\n",
    "    minimum = min(lista)\n",
    "    maximum = max(lista)\n",
    "    return(minimum, maximum)\n",
    "minMax([2,6,3,8,10,-5, 3, -8])"
   ]
  },
  {
   "cell_type": "code",
   "execution_count": 216,
   "metadata": {},
   "outputs": [
    {
     "name": "stdout",
     "output_type": "stream",
     "text": [
      "[7, 9, 1, 13, 15, 11]\n"
     ]
    }
   ],
   "source": [
    "# Lista takodje moze biti povratna vrednost\n",
    "def neparniBrojevi(lista):\n",
    "    return [x for x in lista if x%2 == 1]\n",
    "\n",
    "print(neparniBrojevi([2,7,9, 1, 13, 15, 6, 10, 11]))"
   ]
  }
 ],
 "metadata": {
  "kernelspec": {
   "display_name": "Python 3 (ipykernel)",
   "language": "python",
   "name": "python3"
  },
  "language_info": {
   "codemirror_mode": {
    "name": "ipython",
    "version": 3
   },
   "file_extension": ".py",
   "mimetype": "text/x-python",
   "name": "python",
   "nbconvert_exporter": "python",
   "pygments_lexer": "ipython3",
   "version": "3.10.10"
  }
 },
 "nbformat": 4,
 "nbformat_minor": 4
}
