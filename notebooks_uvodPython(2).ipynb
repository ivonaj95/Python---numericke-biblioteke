{
  "metadata": {
    "language_info": {
      "codemirror_mode": {
        "name": "python",
        "version": 3
      },
      "file_extension": ".py",
      "mimetype": "text/x-python",
      "name": "python",
      "nbconvert_exporter": "python",
      "pygments_lexer": "ipython3",
      "version": "3.8"
    },
    "kernelspec": {
      "name": "python",
      "display_name": "Python (Pyodide)",
      "language": "python"
    }
  },
  "nbformat_minor": 4,
  "nbformat": 4,
  "cells": [
    {
      "cell_type": "markdown",
      "source": "# Uvod u programski jezik Python #",
      "metadata": {}
    },
    {
      "cell_type": "markdown",
      "source": "## Ispis podataka ##",
      "metadata": {}
    },
    {
      "cell_type": "code",
      "source": "# String sa dvostrukim navodnicima\nprint(\"Hello world\")",
      "metadata": {
        "trusted": true
      },
      "execution_count": 1,
      "outputs": [
        {
          "name": "stdout",
          "text": "Hello world\n",
          "output_type": "stream"
        }
      ]
    },
    {
      "cell_type": "code",
      "source": "# Int\nprint(\"50\")",
      "metadata": {
        "trusted": true
      },
      "execution_count": 2,
      "outputs": [
        {
          "name": "stdout",
          "text": "50\n",
          "output_type": "stream"
        }
      ]
    },
    {
      "cell_type": "code",
      "source": "# String sa jednostrukim navodnicima\nprint('Hello world')",
      "metadata": {
        "trusted": true
      },
      "execution_count": 3,
      "outputs": [
        {
          "name": "stdout",
          "text": "Hello world\n",
          "output_type": "stream"
        }
      ]
    },
    {
      "cell_type": "markdown",
      "source": "U programskom jeziku python mozemo da koristimo i jednostruke i dvostruke navodnike za Stringove. Jedina razlika je sto ako koristimo dvostruke navodnike, onda unutar tog stringa mozemo koristiti jednostruke navodnike i obrnuto",
      "metadata": {}
    },
    {
      "cell_type": "code",
      "source": "print(\"Hello 'world' \")\nprint('Hello \"world\"')",
      "metadata": {
        "trusted": true
      },
      "execution_count": 4,
      "outputs": [
        {
          "name": "stdout",
          "text": "Hello 'world' \nHello \"world\"\n",
          "output_type": "stream"
        }
      ]
    },
    {
      "cell_type": "code",
      "source": "# Formatirani ispis \nn = 5\nprint(\"Vrednost promenjive n je: {}\".format(n))",
      "metadata": {
        "trusted": true
      },
      "execution_count": 13,
      "outputs": [
        {
          "name": "stdout",
          "text": "Vrednost promenjive n je: 5\n",
          "output_type": "stream"
        }
      ]
    },
    {
      "cell_type": "code",
      "source": "ime = \"Ana\"\nbrojKnjiga = 10\nprint(\"{} ima {} knjiga. \".format(ime, brojKnjiga))",
      "metadata": {
        "trusted": true
      },
      "execution_count": 15,
      "outputs": [
        {
          "name": "stdout",
          "text": "Ana ima 10 knjiga. \n",
          "output_type": "stream"
        }
      ]
    },
    {
      "cell_type": "code",
      "source": "# jos jedan nacin za formatirani ispis, slicno kao u C-u printf\nime = \"ANA\"\nbrojKnjiga = 12\nprint(f\"{ime} ima {brojKnjiga} knjiga\")",
      "metadata": {
        "trusted": true
      },
      "execution_count": 1,
      "outputs": [
        {
          "name": "stdout",
          "text": "ANA ima 12 knjiga\n",
          "output_type": "stream"
        }
      ]
    },
    {
      "cell_type": "markdown",
      "source": "## Obrada izuzetaka ##",
      "metadata": {}
    },
    {
      "cell_type": "code",
      "source": "a = 23\nb = 0\ntry:\n    c = a/b\n    print(\"a : b = {}\".format(c))\nexcept:\n    print(\"Neispravne vrednosti\")",
      "metadata": {
        "trusted": true
      },
      "execution_count": 26,
      "outputs": [
        {
          "name": "stdout",
          "text": "Neispravne vrednosti\n",
          "output_type": "stream"
        }
      ]
    },
    {
      "cell_type": "markdown",
      "source": "## Rad sa fajlovima ##",
      "metadata": {}
    },
    {
      "cell_type": "code",
      "source": "# citanje datoteke\n\n# Character Meaning\n# --------- ---------------------------------------------------------------\n# 'r'       open for reading (default)\n# 'w'       open for writing, truncating the file first\n# 'x'       create a new file and open it for writing\n# 'a'       open for writing, appending to the end of the file if it exists\n\nf = open(\"ulaz.txt\", \"r\")\nprint(f.read())",
      "metadata": {
        "trusted": true
      },
      "execution_count": 40,
      "outputs": [
        {
          "name": "stdout",
          "text": "Ova datoteka se zove ulaz.txt\nOvo je njen sadrzaj.\n",
          "output_type": "stream"
        }
      ]
    },
    {
      "cell_type": "markdown",
      "source": "NAPOMENA: Ukoliko zaboravite argumente neke metode, ili zelite da vidite sta tacno ta metoda radi potrebno je samo da izvrsite sledecu komandu\n> imeFunkcijeKojaVasZanima?",
      "metadata": {}
    },
    {
      "cell_type": "code",
      "source": "# Zelimo da saznamo vise o metodi open\n#open?\n#help(open)",
      "metadata": {
        "trusted": true
      },
      "execution_count": 218,
      "outputs": []
    },
    {
      "cell_type": "code",
      "source": "# Ako zelimo da citamo iz datoteke koju nismo prethodno napravili dobicemo izuzetak(Exception, Crash). \n# Zbog toga je potrebno da citamo datoteke unutra try except bloka\ntry:\n    f = open(\"nepostojeciUlaz.txt\", \"r\")\n    print(f.read())\nexcept:\n    print(\"Greska prilikom otvaranja fajla\")",
      "metadata": {
        "trusted": true
      },
      "execution_count": 47,
      "outputs": [
        {
          "name": "stdout",
          "text": "Greska prilikom otvaranja fajla\n",
          "output_type": "stream"
        }
      ]
    },
    {
      "cell_type": "code",
      "source": "# Upis u datoteku\ntry:\n    g = open(\"izlaz.txt\", \"w\")\n    g.write(\"Ovo je datoteka izlaz.txt \\n\")\nexcept:\n    print(\"Greska\")",
      "metadata": {
        "trusted": true
      },
      "execution_count": 69,
      "outputs": []
    },
    {
      "cell_type": "code",
      "source": "# Ako hocemo da proverimo sta smo upisali u datoteku,\n# moramo ponovo da napravimo file deskriptor, ali sada da prosledimo parametar \"r\"\ntry:\n    g = open(\"izlaz.txt\", \"r\")\n    print(g.read())\nexcept:\n    print(\"Greska\")",
      "metadata": {
        "trusted": true
      },
      "execution_count": 72,
      "outputs": [
        {
          "name": "stdout",
          "text": "Ovo je datoteka izlaz.txt \n\n",
          "output_type": "stream"
        }
      ]
    },
    {
      "cell_type": "markdown",
      "source": "## If - Else, For, While ##",
      "metadata": {}
    },
    {
      "cell_type": "code",
      "source": "# Da li je broj paran?\na = 10\nif(a % 2 == 0):\n    print(\"Broj {} je paran\".format(a))\nelse:\n    print(\"Broj {} je neparan\".format(a))",
      "metadata": {
        "trusted": true
      },
      "execution_count": 81,
      "outputs": [
        {
          "name": "stdout",
          "text": "Broj 10 je paran\n",
          "output_type": "stream"
        }
      ]
    },
    {
      "cell_type": "code",
      "source": "# ispisati sve brojeve iz intervala [0, 5) - for petlja\nfor i in range(0,5):\n    print(i)",
      "metadata": {
        "trusted": true
      },
      "execution_count": 84,
      "outputs": [
        {
          "name": "stdout",
          "text": "0\n1\n2\n3\n4\n",
          "output_type": "stream"
        }
      ]
    },
    {
      "cell_type": "code",
      "source": "# ispisati sve brojeve intervala [0, 5) - while petlja\ni = 0\nwhile(i < 5):\n    print(i)\n    i+=1\n",
      "metadata": {
        "trusted": true
      },
      "execution_count": 86,
      "outputs": [
        {
          "name": "stdout",
          "text": "0\n1\n2\n3\n4\n",
          "output_type": "stream"
        }
      ]
    },
    {
      "cell_type": "markdown",
      "source": "## Liste ##",
      "metadata": {}
    },
    {
      "cell_type": "code",
      "source": "# incijalizacija liste\nlista = [1, 2, 3, 4]\nprint(lista)",
      "metadata": {
        "trusted": true
      },
      "execution_count": 87,
      "outputs": [
        {
          "name": "stdout",
          "text": "[1, 2, 3, 4]\n",
          "output_type": "stream"
        }
      ]
    },
    {
      "cell_type": "code",
      "source": "# dusina liste\nlista = [1, 2, 3, 4]\nn = len(lista)\nprint('Duzina liste je: {}'.format(n))",
      "metadata": {
        "trusted": true
      },
      "execution_count": 88,
      "outputs": [
        {
          "name": "stdout",
          "text": "Duzina liste je: 4\n",
          "output_type": "stream"
        }
      ]
    },
    {
      "cell_type": "code",
      "source": "# prolazak kroz listu po indeksima\nlista = ['a', 2, \"b\", 4]\nn = len(lista)\n\nfor i in range(0, n):\n    print(lista[i])",
      "metadata": {
        "trusted": true
      },
      "execution_count": 89,
      "outputs": [
        {
          "name": "stdout",
          "text": "a\n2\nb\n4\n",
          "output_type": "stream"
        }
      ]
    },
    {
      "cell_type": "code",
      "source": "# prolazak kroz listu - drugi nacin\nlista = ['a', 2, \"b\", 4]\nn = len(lista)\n\nfor element in lista: # foreach\n    print(element)",
      "metadata": {
        "trusted": true
      },
      "execution_count": 91,
      "outputs": [
        {
          "name": "stdout",
          "text": "a\n2\nb\n4\n",
          "output_type": "stream"
        }
      ]
    },
    {
      "cell_type": "code",
      "source": "# transformacije nad listom\nlista = [1, 5, 2, 4, 3]\nkvadriranaLista = [x**2 for x in lista] # ** - stepen\nprint(kvadriranaLista)",
      "metadata": {
        "trusted": true
      },
      "execution_count": 93,
      "outputs": [
        {
          "name": "stdout",
          "text": "[1, 25, 4, 16, 9]\n",
          "output_type": "stream"
        }
      ]
    },
    {
      "cell_type": "code",
      "source": "# izdvoji samo neparne brojeve iz liste\nlista = [1, 2, 3, 4, 5]\nneparni = [x for x in lista if x % 2 == 1]\nprint(neparni)",
      "metadata": {
        "trusted": true
      },
      "execution_count": 94,
      "outputs": [
        {
          "name": "stdout",
          "text": "[1, 3, 5]\n",
          "output_type": "stream"
        }
      ]
    },
    {
      "cell_type": "code",
      "source": "# dekartov proizvod dve liste\nlista1 = [1, 2, 3, 4]\nlista2 = ['a', 'b', 'c', 'd']\ndekartovProizvod = zip(lista1, lista2)\nprint(zipovana) # ovo ce nam ispisati referencu na listu, ali ne i elemente liste\n# da bismo ispisali sve elemente liste moramo koristiti petlju\nfor l in dekartovProizvod:\n    print(l)",
      "metadata": {
        "trusted": true
      },
      "execution_count": 96,
      "outputs": [
        {
          "name": "stdout",
          "text": "<zip object at 0x28538b8>\n(1, 'a')\n(2, 'b')\n(3, 'c')\n(4, 'd')\n",
          "output_type": "stream"
        }
      ]
    },
    {
      "cell_type": "code",
      "source": "# obrtanje liste\nlista = [1, 5, 7, 2, 0, 26, 8]\nlista.reverse()\nprint(lista)",
      "metadata": {
        "trusted": true
      },
      "execution_count": 104,
      "outputs": [
        {
          "name": "stdout",
          "text": "[8, 26, 0, 2, 7, 5, 1]\n",
          "output_type": "stream"
        }
      ]
    },
    {
      "cell_type": "code",
      "source": "# sortiranje liste rastuce\nlista = [1, 5, 7, 2, 0, 26, 8]\nlista.sort()\nprint(lista)",
      "metadata": {
        "trusted": true
      },
      "execution_count": 107,
      "outputs": [
        {
          "name": "stdout",
          "text": "[0, 1, 2, 5, 7, 8, 26]\n",
          "output_type": "stream"
        }
      ]
    },
    {
      "cell_type": "code",
      "source": "# sortiranje liste opadajuce\nlista = [1, 5, 7, 2, 0, 26, 8]\nlista.sort(reverse = True)\nprint(lista)",
      "metadata": {
        "trusted": true
      },
      "execution_count": 109,
      "outputs": [
        {
          "name": "stdout",
          "text": "[26, 8, 7, 5, 2, 1, 0]\n",
          "output_type": "stream"
        }
      ]
    },
    {
      "cell_type": "code",
      "source": "lista = [1, 5, 7, 2, 0, 26, 8]\n# ispisi elemente sa indeksima od 2 do 5 (bez elementa sa indeksom 5)\nprint(lista[2:5])\n# ispisi elemente sa parnim indeksima pocevsi od elementa sa indeksom 2\nprint(lista[2:7:2]) # prvi nacin\nprint(lista[2::2]) # drugi nacin\n# element sa indeksom -1 je zapravo poslednji element liste\nprint(lista[-1])\n# sta ispisuje sledeci kod?\nprint(lista[-4: -1])",
      "metadata": {
        "trusted": true
      },
      "execution_count": 8,
      "outputs": [
        {
          "name": "stdout",
          "text": "[7, 2, 0]\n[7, 0, 8]\n[7, 0, 8]\n8\n[2, 0, 26]\n",
          "output_type": "stream"
        }
      ]
    },
    {
      "cell_type": "code",
      "source": "# Vec smo videli da se liste mogu sortirati i obrtati\n# Liste su promenjivi tip podataka\n# U nastavku cemo videti kako mozemo dodati ili ukloniti element iz liste\n\nlista = [2, 7, 3, 9, 4, 0]\nprint(lista)\n# dodavanje na kraj\nlista.append(-1)\nprint(lista)\n# dodavanje na pocetak\nlista.insert(0, 6)\nprint(lista)\n# dodavanje elementa na poziciju 3\nlista.insert(3, 10)\nprint(lista)\n# uklanjanje elementa sa kraja liste\nlista.pop()\nprint(lista)\n#uklanjanje elementa na poziciji 3\nlista.pop(3)\nprint(lista)\n#uklanjanje broja 3 iz liste\nlista.remove(3)\nprint(lista)\n",
      "metadata": {
        "trusted": true
      },
      "execution_count": 142,
      "outputs": [
        {
          "name": "stdout",
          "text": "[2, 7, 3, 9, 4, 0]\n[2, 7, 3, 9, 4, 0, -1]\n[6, 2, 7, 3, 9, 4, 0, -1]\n[6, 2, 7, 10, 3, 9, 4, 0, -1]\n[6, 2, 7, 10, 3, 9, 4, 0]\n[6, 2, 7, 3, 9, 4, 0]\n[6, 2, 7, 9, 4, 0]\n",
          "output_type": "stream"
        }
      ]
    },
    {
      "cell_type": "code",
      "source": "lista1 = [2,7,3,8.9,1,2,18]\nlista2 = [\"a\", \"b\", \"c\", \"d\"]\n# nadovezivanje dve liste\nprint(lista1 + lista2)\n\n#dodavanje elementa na pocetak pomocu nadovezivanja\nprint([\"pocetak\"]+lista1)\n\n#Uklanjanje prvog elementa \nprint(lista1[1:])",
      "metadata": {
        "trusted": true
      },
      "execution_count": 147,
      "outputs": [
        {
          "name": "stdout",
          "text": "[2, 7, 3, 8.9, 1, 2, 18, 'a', 'b', 'c', 'd']\n['pocetak', 2, 7, 3, 8.9, 1, 2, 18]\n[7, 3, 8.9, 1, 2, 18]\n",
          "output_type": "stream"
        }
      ]
    },
    {
      "cell_type": "markdown",
      "source": "## Niske ##",
      "metadata": {}
    },
    {
      "cell_type": "code",
      "source": "niska = \"Zdravo\"\nprint(niska)\n# niske ne mozemo da menjamo(ne postoje insert, remove metode), mozemo samo da radimo nadovezivanje\nniska2 = \" svete\"\nprint(niska + niska2)\n# ako bas zelimo da izmenimo karakter , mozemo da konvertujemo nisku u listu karaktera na sledeci nacin\nl = list(niska2)\nprint(l)\nl[1] = 'S'\n# join spaja listu karaktera u nisku\nizmenjenaNiska2 = ''.join(l) # ovde prosledjujemo prazan karakter, jer  ako kazemo \"a\".join(niska2) dobicemo asavaeatae\nprint(niska + izmenjenaNiska2)",
      "metadata": {
        "trusted": true
      },
      "execution_count": 156,
      "outputs": [
        {
          "name": "stdout",
          "text": "Zdravo\nZdravo svete\n[' ', 's', 'v', 'e', 't', 'e']\nZdravo Svete\n",
          "output_type": "stream"
        }
      ]
    },
    {
      "cell_type": "markdown",
      "source": "## Torke ##",
      "metadata": {}
    },
    {
      "cell_type": "code",
      "source": "# Za razliku od listi koje su mogle da se menjaju, torke su nepromenjivi objekti\n# Torke koristimo za elemente koje ne zelimo naknadno menjati\ntorka = (1, 5, 7, 9)\nprint(torka)\n# nadivezivanje, pristup elementima je dostupno kao kod listi\nprint(torka[3])",
      "metadata": {
        "trusted": true
      },
      "execution_count": 164,
      "outputs": [
        {
          "name": "stdout",
          "text": "(1, 5, 7, 9)\n9\n",
          "output_type": "stream"
        }
      ]
    },
    {
      "cell_type": "markdown",
      "source": "## Matrice ##",
      "metadata": {}
    },
    {
      "cell_type": "code",
      "source": "matrica = [[1, 2, 3],\n           [4, 5, 6],\n           [7, 8, 9]]\n\nprint(matrica)\nprint(matrica[2][1])",
      "metadata": {
        "trusted": true
      },
      "execution_count": 131,
      "outputs": [
        {
          "name": "stdout",
          "text": "[[1, 2, 3], [4, 5, 6], [7, 8, 9]]\n8\n",
          "output_type": "stream"
        }
      ]
    },
    {
      "cell_type": "markdown",
      "source": "## Pseudoslucajni brojevi ##",
      "metadata": {}
    },
    {
      "cell_type": "code",
      "source": "import random\nr = random.random() # vraca slucajan broj iz intervala [0, 1)\nrInt = random.randint(1,10)\nprint(r)\nprint(rInt)\nlista = [6,7,2,5.9,2,16,10]\nprint(random.choice(lista)) # random element iz liste\nprint(random.sample(lista, 4)) # random podlista od 4 elementa",
      "metadata": {
        "trusted": true
      },
      "execution_count": 174,
      "outputs": [
        {
          "name": "stdout",
          "text": "0.9199035605233534\n4\n6\n[16, 10, 5.9, 7]\n",
          "output_type": "stream"
        }
      ]
    },
    {
      "cell_type": "markdown",
      "source": "## Skupovi i Mape ##",
      "metadata": {}
    },
    {
      "cell_type": "code",
      "source": "# Skup je kolekcija elemenata koji se ne mogu menjati i ne mogu se duplirati\nprint(set([1,2,6, 2, 3, 8, 1]))",
      "metadata": {
        "trusted": true
      },
      "execution_count": 175,
      "outputs": [
        {
          "name": "stdout",
          "text": "{1, 2, 3, 6, 8}\n",
          "output_type": "stream"
        }
      ]
    },
    {
      "cell_type": "code",
      "source": "# Mapa ili recnik je kolekcija elemenata koja sadrzi parove klju : vrednost\n# Kljucevi su jedinstveni identifikatori i koristimo ih za pristupanje vrednostima\nmapa = {\n    'Analiza': 120,\n    'Algebra': 60,\n    'Programiranje': 110,\n    'Logika' : 40 \n}\n\nprint(mapa)\nprint(\"Algebru slusa {} studenata.\".format(mapa['Algebra']))\nmapa['Engleski'] = 80 # dodavanje elementa u mapu\nprint(mapa)\ndel mapa['Logika'] # brisanje elementa iz mape\nprint(mapa)\n\n# prolazak kroz mapu\nfor k in mapa.keys():\n    print(\"{} ima {} studenata\".format(k, mapa[k]))",
      "metadata": {
        "trusted": true
      },
      "execution_count": 185,
      "outputs": [
        {
          "name": "stdout",
          "text": "{'Analiza': 120, 'Algebra': 60, 'Programiranje': 110, 'Logika': 40}\nAlgebru slusa 60 studenata.\n{'Analiza': 120, 'Algebra': 60, 'Programiranje': 110, 'Logika': 40, 'Engleski': 80}\n{'Analiza': 120, 'Algebra': 60, 'Programiranje': 110, 'Engleski': 80}\nAnaliza ima 120 studenata\nAlgebra ima 60 studenata\nProgramiranje ima 110 studenata\nEngleski ima 80 studenata\n",
          "output_type": "stream"
        }
      ]
    },
    {
      "cell_type": "markdown",
      "source": "## MATH biblioteka ##",
      "metadata": {}
    },
    {
      "cell_type": "code",
      "source": "import math\n\nprint(math.sqrt(9)) # kvadratni koren\nprint(math.ceil(3.8)) # zaokruzivanje na veci broj\nprint(math.floor(3.8)) # zaokruzivanje na manji broj\nprint(math.pow(2,3)) # stepenovanje 2^3\nprint(math.pi) # broj pi\nprint(math.sin(math.pi/6))\nprint(math.cos(0))\n# ..............................\n# naredna komanda ce da izlista sve metode dostupne u biblioteci math\n# help(math)",
      "metadata": {
        "trusted": true
      },
      "execution_count": 199,
      "outputs": [
        {
          "name": "stdout",
          "text": "3.0\n4\n3\n8.0\n3.141592653589793\n0.49999999999999994\n1.0\n",
          "output_type": "stream"
        }
      ]
    },
    {
      "cell_type": "markdown",
      "source": "## Funkcije ##",
      "metadata": {}
    },
    {
      "cell_type": "code",
      "source": "def zbirDvaBroja(a, b):\n    return a + b\nprint(zbirDvaBroja(2,3))",
      "metadata": {
        "trusted": true
      },
      "execution_count": 201,
      "outputs": [
        {
          "name": "stdout",
          "text": "5\n",
          "output_type": "stream"
        }
      ]
    },
    {
      "cell_type": "code",
      "source": "def zbir(a, b, c = 0):\n    return a + b + c\nprint(zbir(2,3,6))\nprint(zbir(2,7))",
      "metadata": {
        "trusted": true
      },
      "execution_count": 204,
      "outputs": [
        {
          "name": "stdout",
          "text": "11\n9\n",
          "output_type": "stream"
        }
      ]
    },
    {
      "cell_type": "code",
      "source": "# Funkcija takodje moze imati i torku kao povratni tim\ndef minMax(lista):\n    minimum = min(lista)\n    maximum = max(lista)\n    return(minimum, maximum)\nminMax([2,6,3,8,10,-5, 3, -8])",
      "metadata": {
        "trusted": true
      },
      "execution_count": 209,
      "outputs": [
        {
          "execution_count": 208,
          "output_type": "execute_result",
          "data": {
            "text/plain": "(-8, 10)"
          },
          "metadata": {}
        }
      ]
    },
    {
      "cell_type": "code",
      "source": "# Lista takodje moze biti povratna vrednost\ndef neparniBrojevi(lista):\n    return [x for x in lista if x%2 == 1]\n\nprint(neparniBrojevi([2,7,9, 1, 13, 15, 6, 10, 11]))",
      "metadata": {
        "trusted": true
      },
      "execution_count": 216,
      "outputs": [
        {
          "name": "stdout",
          "text": "[7, 9, 1, 13, 15, 11]\n",
          "output_type": "stream"
        }
      ]
    }
  ]
}