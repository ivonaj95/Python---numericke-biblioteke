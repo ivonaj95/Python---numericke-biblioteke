{
  "metadata": {
    "kernelspec": {
      "name": "python",
      "display_name": "Python (Pyodide)",
      "language": "python"
    },
    "language_info": {
      "codemirror_mode": {
        "name": "python",
        "version": 3
      },
      "file_extension": ".py",
      "mimetype": "text/x-python",
      "name": "python",
      "nbconvert_exporter": "python",
      "pygments_lexer": "ipython3",
      "version": "3.8"
    }
  },
  "nbformat_minor": 4,
  "nbformat": 4,
  "cells": [
    {
      "cell_type": "markdown",
      "source": "# Markdown # \n\n**Markdown** je jednostavan markup jezik koji se koristi za formatiranje teksta u Jupyter Notebooku i drugim alatima za uređivanje teksta. Markdown vam omogućuje da brzo i jednostavno dodate formatiranje, poput naslova, popisa, slika i linkova, bez korištenja složenih HTML koda.\n\nOvde su navedena neka osnovna pravila za oznacavanje teksta u Markdownu:\n",
      "metadata": {}
    },
    {
      "cell_type": "markdown",
      "source": "# Naslov #",
      "metadata": {}
    },
    {
      "cell_type": "raw",
      "source": "# Naslov #",
      "metadata": {}
    },
    {
      "cell_type": "markdown",
      "source": "## Podnaslov ##\n\n",
      "metadata": {}
    },
    {
      "cell_type": "raw",
      "source": "## Podnaslov ##",
      "metadata": {}
    },
    {
      "cell_type": "markdown",
      "source": "Ovo je *iskoseni* tekst",
      "metadata": {}
    },
    {
      "cell_type": "raw",
      "source": "Ovo je *iskoseni* tekst",
      "metadata": {}
    },
    {
      "cell_type": "markdown",
      "source": "Ovo je **podebljani** tekst",
      "metadata": {}
    },
    {
      "cell_type": "raw",
      "source": "Ovo je **podebljani** tekst",
      "metadata": {}
    },
    {
      "cell_type": "markdown",
      "source": "Ovo je lista\n+ prvi clan\n+ drugi clan\n+ treci clan\n+ cetvrti clan",
      "metadata": {}
    },
    {
      "cell_type": "raw",
      "source": "Ovo je lista\n+ prvi clan\n+ drugi clan\n+ treci clan\n+ cetvrti clan",
      "metadata": {}
    },
    {
      "cell_type": "markdown",
      "source": "Ovo je numerisana lista\n1. prvi clan\n2. drugi clan\n1. treci clan\n4. cetvrti clan",
      "metadata": {}
    },
    {
      "cell_type": "raw",
      "source": "Ovo je numerisana lista\n1. prvi clan\n2. drugi clan\n3. treci clan\n4. cetvrti clan",
      "metadata": {}
    },
    {
      "cell_type": "markdown",
      "source": "Ovo je citat\n> citat",
      "metadata": {}
    },
    {
      "cell_type": "raw",
      "source": "Ovo je citat\n> citat",
      "metadata": {}
    },
    {
      "cell_type": "markdown",
      "source": "Ovo je kod\n~~~ python\n    print(\"Hello world\") \n    a = 5\n    b = 'Hello'\n~~~",
      "metadata": {}
    },
    {
      "cell_type": "raw",
      "source": "Ovo je kod\n~~~ python\n    print(\"Hello world\") \n    a = 5\n    b = 'Hello'\n~~~",
      "metadata": {}
    },
    {
      "cell_type": "markdown",
      "source": "Markdown ima jos mnogo mogucnosti, ali za sada je ovo dovoljno. Vise informacija se moze pronaci u zvanicnoj dokumentaciji\nhttps://www.markdownguide.org/getting-started/",
      "metadata": {}
    }
  ]
}