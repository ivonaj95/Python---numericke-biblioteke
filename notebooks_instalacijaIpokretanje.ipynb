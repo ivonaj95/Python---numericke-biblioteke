{
  "metadata": {
    "kernelspec": {
      "name": "python",
      "display_name": "Python (Pyodide)",
      "language": "python"
    },
    "language_info": {
      "codemirror_mode": {
        "name": "python",
        "version": 3
      },
      "file_extension": ".py",
      "mimetype": "text/x-python",
      "name": "python",
      "nbconvert_exporter": "python",
      "pygments_lexer": "ipython3",
      "version": "3.8"
    }
  },
  "nbformat_minor": 4,
  "nbformat": 4,
  "cells": [
    {
      "cell_type": "markdown",
      "source": "## Upustvo za instalaciju\n\nUpustvo za instalaciju mozete pronaci na sledecem linku\n\n> https://jupyter.org/install\n\n\n## Pokretanje\n\nNakon uspesne instalacije, pozicionirajte se u direktorijum gde zelite da radite. Nakon toga jupiter svesku mozete pokrenuti komandom\n\n> jupyter notebook\n\n\n## Moguci problemi\n\nAko imate neka podesavanja za proxy, postoji mogucnost da se jupyter ne otvori u browseru. Dobicete gresku slicnu narednoj.\n\n> [I 13:36:22.247 NotebookApp] Use Control-C to stop this server and shut down all kernels (twice to skip confirmation).\n> [C 13:36:22.292 NotebookApp] \n  >  \n    To access the notebook, open this file in a browser:\n        file:///run/user/11743/snap.jupyter/jupyter/nbserver-165563-open.html\n    Or copy and paste one of these URLs:\n        http://localhost:8889/?token=010ed9bbff40d8e353044dde8c5b39fb21186803c7068640\nuser-open error: request declined by the user (code 2)\n\n\nU tom slucaju samo rucno prekopirajte drugi link u svoj browser.\n\n## Rad bez instalacije\n\nUkoliko ne zelite da instalirate jupyter, mozete ga koristiti i online \n> https://jupyter.org/try",
      "metadata": {}
    },
    {
      "cell_type": "markdown",
      "source": "## Zasto jupyter notebook?\n\nJupyter sveska je interaktivna radna sveska koja omogućuje pisanje i izvršavanje koda, kao i unos teksta i slike. Osnovni elementi Jupyter sveske su ćelije, koje mogu imati tip ***code*** , ***markdown***, ***raw***\n\n**Code** ćelije su namijenjene pisanju i izvršavanju koda. Možete napisati bilo koji kod u podržanom programskom jeziku i pokrenuti ga pritiskom na Shift + Enter ili klikom na dugme \"Run\" u meniju. Rezultati će biti prikazani ispod ćelije.\n\n**Markdown** ćelije su namijenjene unosu teksta, ali ne koda. Možete koristiti Markdown sintaksu da formatirate tekst, uključujući naslove, listove, citate, slike i linkove. Kada pokrenete \"markdown\" ćeliju (Shift + Enter), tekst će biti prikazan formatiran u zavisnosti od korištenje sintakse.\n\n**Raw** ćelije su ćelije koje se ne izvršavaju i koje se prikazuju kao običan tekst. One su namijenjene za tekst koji bi trebao biti prikazan u dokumentu, ali koji ne bi trebao biti promijenjen ili izvršen.\n  ",
      "metadata": {}
    },
    {
      "cell_type": "markdown",
      "source": "## Najvaznije precice ##\n\n> A - Dodaj novu celiju iznad (above)\n\n> B - Dodaj novu celiju ispod (bellow)\n\n> DD - Obrisi celiju\n\n> Esc - Selektuj celiju\n\n> Ctrl + Enter - Pokreni celiju",
      "metadata": {}
    }
  ]
}