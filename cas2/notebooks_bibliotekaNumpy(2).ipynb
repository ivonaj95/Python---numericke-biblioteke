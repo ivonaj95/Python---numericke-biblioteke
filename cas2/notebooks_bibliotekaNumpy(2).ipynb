{
  "metadata": {
    "language_info": {
      "codemirror_mode": {
        "name": "python",
        "version": 3
      },
      "file_extension": ".py",
      "mimetype": "text/x-python",
      "name": "python",
      "nbconvert_exporter": "python",
      "pygments_lexer": "ipython3",
      "version": "3.8"
    },
    "kernelspec": {
      "name": "python",
      "display_name": "Python (Pyodide)",
      "language": "python"
    }
  },
  "nbformat_minor": 4,
  "nbformat": 4,
  "cells": [
    {
      "cell_type": "markdown",
      "source": "# Numpy biblioteka #",
      "metadata": {}
    },
    {
      "cell_type": "markdown",
      "source": "NumPy je jedna od najvaznijih biblioteka za Python. Glavna svrha je rad s visedimenzionalnim poljima (nizovima) i matricama.",
      "metadata": {}
    },
    {
      "cell_type": "code",
      "source": "import numpy as np",
      "metadata": {
        "trusted": true
      },
      "execution_count": 1,
      "outputs": []
    },
    {
      "cell_type": "code",
      "source": "# numpy niz\nniz = np.array([1,6,0]) # kreiranje niza od zadatih elemenata\nprint(niz)\nprint(niz.shape) # vraca oblik niza, (3,) - nedostatak drugog indeksa oznacava da je u pitanju niz\n# numpy niz nije torka ili lista, to je novi tip\nprint(type(niz))",
      "metadata": {
        "trusted": true
      },
      "execution_count": 14,
      "outputs": [
        {
          "name": "stdout",
          "text": "[1 6 0]\n(3,)\n<class 'numpy.ndarray'>\n",
          "output_type": "stream"
        }
      ]
    },
    {
      "cell_type": "code",
      "source": "# indeksiranje se radi na isti nacin kao sa lista\nprint(f\"prvi clan : {niz[0]}, drugi clan: {niz[1]}, treci clan {niz[2]}\")\nprint(f\"duzina niza je {len(niz)}\")",
      "metadata": {
        "trusted": true
      },
      "execution_count": 19,
      "outputs": [
        {
          "name": "stdout",
          "text": "prvi clan : 1, drugi clan: 6, treci clan 0\nduzina niza je 3\n",
          "output_type": "stream"
        }
      ]
    },
    {
      "cell_type": "code",
      "source": "# takodje, ovi nizovi su promenjiog tipa, sto znaci da mozemo menjati elemente unutar niza\nniz[2] = 10\nprint(niz)",
      "metadata": {
        "trusted": true
      },
      "execution_count": 21,
      "outputs": [
        {
          "name": "stdout",
          "text": "[ 1  6 10]\n",
          "output_type": "stream"
        }
      ]
    },
    {
      "cell_type": "code",
      "source": "# visedimenzionalni niz\nniz2 = np.array([[1,2, 3], [4,5,7], [6,7,9], [0,6,2]])\nprint(niz2)\nprint(niz2.shape) # 4x3 4 vrste i 3 kolone\n# indeksiranje elemenata dvodimenzionalnog niza\nprint(f\"niz2[0][2] = {niz2[0][2]}\") # prvi nacin\nprint(f\"niz2[0, 2] = {niz2[0, 2]}\") # drugi nacin",
      "metadata": {
        "trusted": true
      },
      "execution_count": 28,
      "outputs": [
        {
          "name": "stdout",
          "text": "[[1 2 3]\n [4 5 7]\n [6 7 9]\n [0 6 2]]\n(4, 3)\nniz2[0][2] = 3\nniz2[0, 2] = 3\n",
          "output_type": "stream"
        }
      ]
    },
    {
      "cell_type": "code",
      "source": "# inicijalizacija nekih posebnih nizova\n\n# matrica oblika 3x2 koja ima sve nule\na = np.zeros((3,2))\nprint(a)\n\n# matrica oblika 2x3 koja ima sve jedinice\nb = np.ones((2,3))\nprint(b)\n\n# matrica oblika 3x3 ciji su svi elementi jednaki broju 5\nc = np.full((3,3), 5)\nprint(c)\n\n# jedinicna matrica oblika 3x3\nd = np.eye(3)\nprint(d)\n\n# random matrica\n# ako zelimo da svaki put dobijemo iste brojeve, onda mozemo postaviti neki seed,\n# to je korisni radi testiranja, debagovanja....\nnp.random.seed(10)\ne = np.random.random((2,2))\nprint(e)",
      "metadata": {
        "trusted": true
      },
      "execution_count": 49,
      "outputs": [
        {
          "name": "stdout",
          "text": "[[0. 0.]\n [0. 0.]\n [0. 0.]]\n[[1. 1. 1.]\n [1. 1. 1.]]\n[[5 5 5]\n [5 5 5]\n [5 5 5]]\n[[1. 0. 0.]\n [0. 1. 0.]\n [0. 0. 1.]]\n[[0.77132064 0.02075195]\n [0.63364823 0.74880388]]\n",
          "output_type": "stream"
        }
      ]
    },
    {
      "cell_type": "code",
      "source": "# izdvajanje podniza\nA = np.array([[1,2,3,4],[5,6,7,8],[8,9,10,11]])\nprint(A)\n# biramo sve vrste ciji je indeks manji od 2 i kolone sa indeksom vecim ili jednakim 1, a manjim od 3\nB = A[:2, 1:3]\nprint(B)\n\n# vazno napomenuti\n# ovde B nije bova matrica, ona je samo pogled na matricu A\n# dakle, ako menjamo elemente jedne matrice, promene se i elementi u drugoj matrici\n\nB[1,0] = 100\nprint(B)\nprint(A)\n\n# ako zelimo novu matricu, potrebno je koristit copy\nC = A[:2, 1:3].copy()\nA[0,2] = 300\nprint(A) # promenjeno\nprint(B) # promenjeno\nprint(C) # nije se promenilo",
      "metadata": {
        "trusted": true
      },
      "execution_count": 63,
      "outputs": [
        {
          "name": "stdout",
          "text": "[[ 1  2  3  4]\n [ 5  6  7  8]\n [ 8  9 10 11]]\n[[2 3]\n [6 7]]\n[[  2   3]\n [100   7]]\n[[  1   2   3   4]\n [  5 100   7   8]\n [  8   9  10  11]]\n[[  1   2 300   4]\n [  5 100   7   8]\n [  8   9  10  11]]\n[[  2 300]\n [100   7]]\n[[  2   3]\n [100   7]]\n",
          "output_type": "stream"
        }
      ]
    },
    {
      "cell_type": "code",
      "source": "# razne operacije sa nizovima\n\n# mozemo da ih sabiramo po koordinatama\nx = np.array([[1,2],[3,4]])\ny = np.array([[5,6],[7,8]])\n\nprint(f\" x + y =\\n {x+y}\\n\")\n\n# oduzimanje po koordinatama\nprint(f\" x - y =\\n {x-y}\\n\")\n\n# mnozenje po koordinatama\nprint(f\" x * y =\\n {x*y}\\n\")\n\n# deljenje po koordinatama\nprint(f\" x / y =\\n {x/y}\\n\")\n\n# kvadriranje svakog elementa\nprint(f\" x**2 = \\n {x**2}\\n\")",
      "metadata": {
        "trusted": true
      },
      "execution_count": 82,
      "outputs": [
        {
          "name": "stdout",
          "text": " x + y =\n [[ 6  8]\n [10 12]]\n\n x - y =\n [[-4 -4]\n [-4 -4]]\n\n x * y =\n [[ 5 12]\n [21 32]]\n\n x / y =\n [[0.2        0.33333333]\n [0.42857143 0.5       ]]\n\n x**2 = \n [[ 1  4]\n [ 9 16]]\n\n",
          "output_type": "stream"
        }
      ]
    },
    {
      "cell_type": "code",
      "source": "# Ukoliko zelimo matricno mnozenje , koristimo dot\n\nprint(f\" x.dot(y) =\\n {x.dot(y)}\\n\")\n\n# dot moze da se koristi i za skalarni prozivod dva vektora\nv = np.array([1,2,3])\nu = np.array([5,6,7])\n\nprint(f\" u.dot(v) =\\n {u.dot(v)}\\n\")",
      "metadata": {
        "trusted": true
      },
      "execution_count": 88,
      "outputs": [
        {
          "name": "stdout",
          "text": " x.dot(y) =\n [[19 22]\n [43 50]]\n\n u.dot(v) =\n 38\n\n",
          "output_type": "stream"
        }
      ]
    },
    {
      "cell_type": "code",
      "source": "# jos neke korisne mogucnosti numpy biblioteke\n\nX = np.array([[1,2,4], [-10,6,3], [7,1,0], [12,3 ,-2]])\nprint(X)\n\n# numpy.sum() - racuna zbor svih vrednosti u nizu.\nprint(f\"Zbir svih elemenata matrice X je {np.sum(X)}\")\n\n# numpy.mean() - racuna aritmeticku sredinu svih vrednosti u nizu.\nprint(f\"Aritmeticka sredina elemenata matrice X je {np.mean(X)}\")\n\n# numpy.max() - vraca najvecu vrijednost u nizu.\nprint(f\"Najveci element matrice X je {np.max(X)}\")\n\n# numpy.min() - vraca najmanju vrednost u nizu.\nprint(f\"Najmanji element matrice X je {np.min(X)}\")",
      "metadata": {
        "trusted": true
      },
      "execution_count": 95,
      "outputs": [
        {
          "name": "stdout",
          "text": "[[  1   2   4]\n [-10   6   3]\n [  7   1   0]\n [ 12   3  -2]]\nZbir svih elemenata matrice X je 27\nAritmeticka sredina elemenata matrice X je 2.25\nNajveci element matrice X je 12\nNajmanji element matrice X je -10\n",
          "output_type": "stream"
        }
      ]
    },
    {
      "cell_type": "code",
      "source": "# numpy.arange()\n# stvara niz s vrednostima koje su jednako razmaknute. \n# Argumenti su pocetna vrednost, krajnja vrednost i korak.\nm = np.arange(1, 20, 2)\nprint(m)\n\n# numpy.linspace() \n# stvara niz s vrednostima koje su jednako razmaknute. \n# Argumenti su pocetna vrednost, krajnja vrednost i broj tacaka u nizu.\nn = np.linspace(1, 20, 10)\nprint(n)\n\n# numpy.reshape() - menja oblik polja.\nm1 = m.reshape(2,5)\nprint(m1)\n\n# numpy.concatenate() - spaja dva ili više nizova u jedan.\nprint(np.concatenate((m,n)))\n\n# mozemo da radimo i konkatenaciju matrica\nA = np.array([[1, 2, 3], [4, 5, 6]])\nB = np.array([[7, 8, 9], [10, 11, 12]])\n\n# Spajamo matrice po dimenziji 0\nC = np.concatenate([A, B], axis=0)\nprint(C)\n\n# Spajamo matrice po dimenziji 1\nD = np.concatenate([A, B], axis=1)\nprint(D)",
      "metadata": {
        "trusted": true
      },
      "execution_count": 120,
      "outputs": [
        {
          "name": "stdout",
          "text": "[ 1  3  5  7  9 11 13 15 17 19]\n[ 1.          3.11111111  5.22222222  7.33333333  9.44444444 11.55555556\n 13.66666667 15.77777778 17.88888889 20.        ]\n[[ 1  3  5  7  9]\n [11 13 15 17 19]]\n[ 1.          3.          5.          7.          9.         11.\n 13.         15.         17.         19.          1.          3.11111111\n  5.22222222  7.33333333  9.44444444 11.55555556 13.66666667 15.77777778\n 17.88888889 20.        ]\n[[ 1  2  3]\n [ 4  5  6]\n [ 7  8  9]\n [10 11 12]]\n[[ 1  2  3  7  8  9]\n [ 4  5  6 10 11 12]]\n",
          "output_type": "stream"
        }
      ]
    },
    {
      "cell_type": "markdown",
      "source": "## Numpy.linalg modul ##\nModul *numpy.linalg* pruža funkcionalnost linearne algebre u NumPy-u. U nastavku su navedene neke od najvaznijih funkcija ovog modula:\n\n    numpy.linalg.inv: Izracunava inverz matrice.\n    numpy.linalg.det: Izracunava determinantu matrice.\n    numpy.linalg.eig: Izracunava sopstvene vektore i sopstvene vrednosti matrice.\n    numpy.linalg.solve: Resava linearni sistem jednadžbi Ax = b za x.\n    numpy.linalg.norm: Izracunava normu vektora ili matrice.",
      "metadata": {}
    },
    {
      "cell_type": "code",
      "source": "import numpy.linalg as LA",
      "metadata": {
        "trusted": true
      },
      "execution_count": 121,
      "outputs": []
    },
    {
      "cell_type": "code",
      "source": "A = np.array([[1,2],[8,5]])\nprint(A)",
      "metadata": {
        "trusted": true
      },
      "execution_count": 139,
      "outputs": [
        {
          "name": "stdout",
          "text": "[[1 2]\n [8 5]]\n",
          "output_type": "stream"
        }
      ]
    },
    {
      "cell_type": "code",
      "source": "# determinanta matrice A\nprint(LA.det(A))\n\n# inverz\nA_inv = LA.inv(A)\nprint(A_inv)\n\nprint(A.dot(A_inv))\n",
      "metadata": {
        "trusted": true
      },
      "execution_count": 142,
      "outputs": [
        {
          "name": "stdout",
          "text": "-10.999999999999996\n[[-0.45454545  0.18181818]\n [ 0.72727273 -0.09090909]]\n[[1. 0.]\n [0. 1.]]\n",
          "output_type": "stream"
        }
      ]
    },
    {
      "cell_type": "code",
      "source": "# sopstvene vrednosti i vektori\n[sVrednosti, sVektori] = LA.eig(A)\n# prva kolona u sVektori je prvi sopstveni vektor, a druga drugi\n# provera da li je rezultat dobar \nprint(f\"{A.dot(sVektori[:,0])} == {sVrednosti[0]*sVektori[:,0]}\")\nprint(f\"{A.dot(sVektori[:,1])} == {sVrednosti[1]*sVektori[:,1]}\")",
      "metadata": {
        "trusted": true
      },
      "execution_count": 152,
      "outputs": [
        {
          "name": "stdout",
          "text": "[ 0.92591488 -1.14449373] == [ 0.92591488 -1.14449373]\n[-2.20608694 -7.13904729] == [-2.20608694 -7.13904729]\n",
          "output_type": "stream"
        }
      ]
    },
    {
      "cell_type": "code",
      "source": "# resi jednacine 2x + 3y = 13, 5x - y = 7\n[x,y] = LA.solve(np.array([[2,3],[5,-1]]), np.array([13,7]))\nprint(f\"resenje je x = {x}, y = {y}\")",
      "metadata": {
        "trusted": true
      },
      "execution_count": 154,
      "outputs": [
        {
          "name": "stdout",
          "text": "resenje je x = 2.0, y = 3.0\n",
          "output_type": "stream"
        }
      ]
    },
    {
      "cell_type": "code",
      "source": "# racunanje norme matrice\nLA.norm(A)",
      "metadata": {
        "trusted": true
      },
      "execution_count": 155,
      "outputs": [
        {
          "execution_count": 155,
          "output_type": "execute_result",
          "data": {
            "text/plain": "9.695359714832659"
          },
          "metadata": {}
        }
      ]
    }
  ]
}